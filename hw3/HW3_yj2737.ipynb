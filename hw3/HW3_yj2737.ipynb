{
  "cells": [
    {
      "cell_type": "markdown",
      "metadata": {
        "id": "c1ba25aa-1137-4740-839c-f7a69eb50b52"
      },
      "source": [
        "Homework 3: Object Recognition\n",
        "==========\n",
        "\n",
        "> **Submission Instructions:** Before the deadline, export the completed notebook to PDF and upload it to GradeScope. The PDF should clearly show your code, and the result of running the code. Check the PDF to ensure that it is readable, the font-size is not small, and no information is cut-off. There will be no make-ups or extensions for corrupted/damaged/unreadable PDFs."
      ],
      "id": "c1ba25aa-1137-4740-839c-f7a69eb50b52"
    },
    {
      "cell_type": "markdown",
      "metadata": {
        "id": "AVcwnnUJjQEj"
      },
      "source": [
        "**Names of Collaborators:**\n",
        "\n",
        "In this homework, we will investigate learning a neural network with PyTorch. This will give you some familarity with PyTorch and modern deep learning libraries. First, let's load in PyTorch and several functions that we will use throughout the homework."
      ],
      "id": "AVcwnnUJjQEj"
    },
    {
      "cell_type": "code",
      "execution_count": null,
      "metadata": {
        "id": "071258a6-b275-4a24-ad8e-1e7663b2584b"
      },
      "outputs": [],
      "source": [
        "import matplotlib.pyplot as plt\n",
        "import numpy as np\n",
        "import torch\n",
        "import torchvision\n",
        "import torchvision.transforms as transforms\n",
        "import torch.nn as nn\n",
        "import torch.nn.functional as F\n",
        "import torch.optim as optim\n",
        "\n",
        "device = \"cuda\" if torch.cuda.is_available() else \"cpu\"\n",
        "\n",
        "def imshow(img):\n",
        "    img = img / 2 + 0.5\n",
        "    npimg = img.numpy()\n",
        "    plt.imshow(np.transpose(npimg, (1, 2, 0)))\n",
        "    plt.show()"
      ],
      "id": "071258a6-b275-4a24-ad8e-1e7663b2584b"
    },
    {
      "cell_type": "markdown",
      "metadata": {
        "id": "4lwxFsRf1Tkt"
      },
      "source": [
        "For this homework, having access to a GPU will be very useful. To enable a GPU, follow the instructions from the previous homework. If the code below outputs `cuda`, then you are using a GPU."
      ],
      "id": "4lwxFsRf1Tkt"
    },
    {
      "cell_type": "code",
      "execution_count": null,
      "metadata": {
        "id": "1zhdwrJ51deT",
        "colab": {
          "base_uri": "https://localhost:8080/"
        },
        "outputId": "91e5020e-12c8-470d-a3d1-bc58d4eaa537"
      },
      "outputs": [
        {
          "output_type": "stream",
          "name": "stdout",
          "text": [
            "cuda\n"
          ]
        }
      ],
      "source": [
        "print(device)"
      ],
      "id": "1zhdwrJ51deT"
    },
    {
      "cell_type": "markdown",
      "source": [
        "# 1. Problem 1: Building Neural Network"
      ],
      "metadata": {
        "id": "gV5Hmnr6avzU"
      },
      "id": "gV5Hmnr6avzU"
    },
    {
      "cell_type": "markdown",
      "metadata": {
        "id": "7ab7cefb-1ca9-4361-826c-9fffe3068278"
      },
      "source": [
        "Introduction to PyTorch\n",
        "-----------------------\n",
        "PyTorch is similar to numpy. For the most part, if there is a numpy operation, there is an equivalent PyTorch operation. However, the advantage of PyTorch is that it will automatically calculate gradients through back-propagation and the algorithms are implemented on the GPU.\n",
        "\n",
        "### Automatic Differentiation\n",
        "You can view PyTorch as Numpy with gradient calculation built in. After you have finished computing your program, there is a `.backward()` function that calculates the gradients for all of the operations in the program. You no longer need to analytically calculate the gradients, code it up, and write a gradient checker.\n",
        "\n",
        "Let's look at a basic example. We will perform matrix multiplication between `a` and `b`, followed by element-wise multiplication with `c`, and finally we sum the result. Since it is computed in PyTorch, we can simply call `result.backward()` to have all of the gradients calculated throughout the computational graph."
      ],
      "id": "7ab7cefb-1ca9-4361-826c-9fffe3068278"
    },
    {
      "cell_type": "code",
      "execution_count": null,
      "metadata": {
        "id": "6a645f82-d24e-4205-9bfd-c442a83e82ad",
        "colab": {
          "base_uri": "https://localhost:8080/"
        },
        "outputId": "d2189509-fae6-4594-a5f9-c98018bb67a6"
      },
      "outputs": [
        {
          "output_type": "stream",
          "name": "stdout",
          "text": [
            "Result: 0.32349035143852234\n",
            "Gradient a:\n",
            " tensor([[0.6161, 0.0629],\n",
            "        [0.3089, 0.0457]], device='cuda:0')\n",
            "Gradient b:\n",
            " tensor([[0.4461, 0.1300],\n",
            "        [0.2934, 0.2578]], device='cuda:0')\n",
            "Gradient c:\n",
            " None\n"
          ]
        }
      ],
      "source": [
        "a = torch.rand(2,2, requires_grad=True, device=device)\n",
        "b = torch.rand(2,2, requires_grad=True, device=device)\n",
        "c = torch.rand(2,2, device=device)\n",
        "\n",
        "result = torch.matmul(a, b) * c\n",
        "result = result.sum()\n",
        "\n",
        "result.backward() # calculate the gradients with back-propagation to the input\n",
        "\n",
        "print(f'Result: {result.cpu().item()}')\n",
        "print(f'Gradient a:\\n {a.grad}')\n",
        "print(f'Gradient b:\\n {b.grad}')\n",
        "print(f'Gradient c:\\n {c.grad}')"
      ],
      "id": "6a645f82-d24e-4205-9bfd-c442a83e82ad"
    },
    {
      "cell_type": "markdown",
      "metadata": {
        "id": "IX7MOdFf2j6-"
      },
      "source": [
        "Note that only the tensors explicitly marked with `requires_grad=True` will have gradients calculated. Consequently, the gradient for `c` is `None` in the above computation. Automatic differenation makes it possible to implement very creative and complex deep learning algorithms. There has been extensive research and development to create many differentiable functions.\n",
        "\n",
        "PyTorch makes it easy to transfer variables between the CPU and the GPU. When the variable `a` is constructed, the `device=device` specifies whether to store it on the CPU or GPU, depending on the value of the `device` variable. There is also a `.cpu()` function to bring a variable back to the CPU, and a `.to(device)` function to transfer a variable between devices."
      ],
      "id": "IX7MOdFf2j6-"
    },
    {
      "cell_type": "code",
      "execution_count": null,
      "metadata": {
        "id": "YhSdPdR--tXE"
      },
      "outputs": [],
      "source": [
        "cpu_tensor = torch.rand(2,2)\n",
        "gpu_tensor = cpu_tensor.to(\"cuda\")\n",
        "\n",
        "cpu_tensor_2 = gpu_tensor.to(\"cpu\")\n",
        "cpu_tensor_3 = gpu_tensor.cpu()"
      ],
      "id": "YhSdPdR--tXE"
    },
    {
      "cell_type": "markdown",
      "metadata": {
        "id": "9f394f66-027b-4e72-b1a4-5f8d576682f9"
      },
      "source": [
        "### Neural Network Layers\n",
        "\n",
        "PyTorch also has a large library of deep learning layers. These layers allow you to operate at a higher-level of abstraction than low-level code. For example, one of the most basic layers in deep learning modules are linear layers, which is a matrix multiplication followed by a vector addition. PyTorch has layers that handle this for you, and automatically create the parameter vectors that need to be learned.\n",
        "\n",
        "Below is an example. Notice how we first create the layer, then we call the layer. Creating the layer is like creating the function, which you can then later call. When the layer is created, the weights for the matrix multiplication (and addition) are automatically created, and initialized automatically with random numbers. "
      ],
      "id": "9f394f66-027b-4e72-b1a4-5f8d576682f9"
    },
    {
      "cell_type": "code",
      "execution_count": null,
      "metadata": {
        "id": "4d9cccd5-393d-4b99-9de9-34dbc7d40413",
        "colab": {
          "base_uri": "https://localhost:8080/"
        },
        "outputId": "b80c84b3-0f59-4156-c85a-fb6cdd36b29f"
      },
      "outputs": [
        {
          "output_type": "stream",
          "name": "stdout",
          "text": [
            "Weights of the Layer:\n",
            "Parameter containing:\n",
            "tensor([[-0.1839,  0.2116, -0.4551],\n",
            "        [-0.5188,  0.0717,  0.1533]], requires_grad=True)\n"
          ]
        }
      ],
      "source": [
        "test_input = torch.randn(3)\n",
        "\n",
        "layer = nn.Linear(3, 2) # create the layer\n",
        "output = layer(test_input) # call the layer\n",
        "\n",
        "print('Weights of the Layer:')\n",
        "print(layer.weight)"
      ],
      "id": "4d9cccd5-393d-4b99-9de9-34dbc7d40413"
    },
    {
      "cell_type": "markdown",
      "metadata": {
        "id": "6a5f2e58-9478-4ed6-8b6b-a694cd92d224"
      },
      "source": [
        "This allows us to chain layers together in order to create a neural network. For example, the below code creates a neural network similar to the previous homework. And the gradients can be easily calculated through back-propagation throughout all of the layers. "
      ],
      "id": "6a5f2e58-9478-4ed6-8b6b-a694cd92d224"
    },
    {
      "cell_type": "code",
      "execution_count": null,
      "metadata": {
        "id": "f93a2cb5-f028-4761-bb8d-3402cba55ce0",
        "colab": {
          "base_uri": "https://localhost:8080/"
        },
        "outputId": "e202f8ac-cf03-44cb-8884-37229ce15ad4"
      },
      "outputs": [
        {
          "output_type": "stream",
          "name": "stdout",
          "text": [
            "Result: -0.14415761828422546\n",
            "Gradient to weights in layer 1:\n",
            "tensor([[ 0.0000e+00,  0.0000e+00, -0.0000e+00],\n",
            "        [ 0.0000e+00,  0.0000e+00, -0.0000e+00],\n",
            "        [ 9.2860e-02,  4.4548e-04, -2.6681e-01],\n",
            "        [ 0.0000e+00,  0.0000e+00, -0.0000e+00],\n",
            "        [ 5.3429e-02,  2.5631e-04, -1.5352e-01],\n",
            "        [ 0.0000e+00,  0.0000e+00, -0.0000e+00],\n",
            "        [-1.6060e-03, -7.7045e-06,  4.6145e-03],\n",
            "        [-2.9704e-02, -1.4250e-04,  8.5347e-02],\n",
            "        [-1.8732e-02, -8.9861e-05,  5.3821e-02],\n",
            "        [-1.8511e-02, -8.8803e-05,  5.3187e-02],\n",
            "        [-8.6179e-02, -4.1343e-04,  2.4762e-01],\n",
            "        [ 0.0000e+00,  0.0000e+00, -0.0000e+00],\n",
            "        [-4.5856e-02, -2.1998e-04,  1.3176e-01],\n",
            "        [-8.3285e-03, -3.9954e-05,  2.3930e-02],\n",
            "        [ 0.0000e+00,  0.0000e+00, -0.0000e+00],\n",
            "        [-6.5090e-02, -3.1226e-04,  1.8702e-01],\n",
            "        [ 0.0000e+00,  0.0000e+00, -0.0000e+00],\n",
            "        [ 0.0000e+00,  0.0000e+00, -0.0000e+00],\n",
            "        [ 0.0000e+00,  0.0000e+00, -0.0000e+00],\n",
            "        [-2.2001e-03, -1.0554e-05,  6.3214e-03]])\n"
          ]
        }
      ],
      "source": [
        "test_input = torch.randn(3)\n",
        "\n",
        "layer1 = nn.Linear(3, 20)\n",
        "layer2 = nn.ReLU()\n",
        "layer3 = nn.Linear(20, 1)\n",
        "\n",
        "out = layer1(test_input)\n",
        "out = layer2(out)\n",
        "out = layer3(out)\n",
        "\n",
        "print(f'Result: {out.item()}') \n",
        "\n",
        "out.backward()\n",
        "\n",
        "print('Gradient to weights in layer 1:')\n",
        "print(layer1.weight.grad)"
      ],
      "id": "f93a2cb5-f028-4761-bb8d-3402cba55ce0"
    },
    {
      "cell_type": "markdown",
      "metadata": {
        "id": "7493f7bf-f020-4429-a4d2-772dfc1c0061"
      },
      "source": [
        "Let's use this knowledge to create a neural network for object recognition."
      ],
      "id": "7493f7bf-f020-4429-a4d2-772dfc1c0061"
    },
    {
      "cell_type": "markdown",
      "metadata": {
        "id": "c2b040d5-ab97-4790-b423-428fc20ee752"
      },
      "source": [
        "Loading Image Datasets\n",
        "----------------------\n",
        "We are going to work with the CIFAR10 dataset, which is a small image dataset consisting of just ten object categories. Most datasets today are many orders of magnitude larger in size, but the smaller dataset will allow us to work on commodity computers. The code below will download both the train/test splits of the CIFAR10 dataset, and visualize some of the images."
      ],
      "id": "c2b040d5-ab97-4790-b423-428fc20ee752"
    },
    {
      "cell_type": "code",
      "execution_count": null,
      "metadata": {
        "id": "04121e8d-a42c-4287-a3ac-c7639d4a9175",
        "colab": {
          "base_uri": "https://localhost:8080/",
          "height": 228
        },
        "outputId": "7bd4a44a-a122-4794-b5a0-58398f2f4bfc"
      },
      "outputs": [
        {
          "output_type": "stream",
          "name": "stdout",
          "text": [
            "Files already downloaded and verified\n",
            "Files already downloaded and verified\n"
          ]
        },
        {
          "output_type": "display_data",
          "data": {
            "text/plain": [
              "<Figure size 640x480 with 1 Axes>"
            ],
            "image/png": "[encoded data removed]"
          },
          "metadata": {}
        }
      ],
      "source": [
        "transform = transforms.Compose(\n",
        "    [transforms.ToTensor(),\n",
        "     transforms.Normalize((0.5, 0.5, 0.5), (0.5, 0.5, 0.5))])\n",
        "\n",
        "batch_size = 4\n",
        "\n",
        "trainset = torchvision.datasets.CIFAR10(root='./data', train=True,\n",
        "                                        download=True, transform=transform)\n",
        "trainloader = torch.utils.data.DataLoader(trainset, batch_size=batch_size,\n",
        "                                          shuffle=True, num_workers=2)\n",
        "\n",
        "testset = torchvision.datasets.CIFAR10(root='./data', train=False,\n",
        "                                       download=True, transform=transform)\n",
        "testloader = torch.utils.data.DataLoader(testset, batch_size=batch_size,\n",
        "                                         shuffle=False, num_workers=2)\n",
        "\n",
        "classes = ('plane', 'car', 'bird', 'cat',\n",
        "           'deer', 'dog', 'frog', 'horse', 'ship', 'truck')\n",
        "\n",
        "# get some random training images\n",
        "dataiter = iter(trainloader)\n",
        "images, labels = next(dataiter)\n",
        "\n",
        "# show images\n",
        "imshow(torchvision.utils.make_grid(images))"
      ],
      "id": "04121e8d-a42c-4287-a3ac-c7639d4a9175"
    },
    {
      "cell_type": "markdown",
      "metadata": {
        "id": "c1aa6f00-c29f-47f6-be09-2582e363741c"
      },
      "source": [
        "Building the Neural Network\n",
        "---------------------------\n",
        "\n",
        "Create a convolutional neural network that classifies the category of the images in the CIFAR10 dataset. In the class below, there are two functions: `__init__` and `forward()`. In the constructor, instantiate the layers that you will need. In the `forward()` function, call these layers in order to run the neural network forwards. \n",
        "\n",
        "Experiment with the below neural network layers to build a network that is able to classify the image:\n",
        "- <a href=\"https://pytorch.org/docs/stable/generated/torch.nn.Conv2d.html\">nn.Conv2d()</a>\n",
        "- <a href=\"https://pytorch.org/docs/stable/generated/torch.nn.MaxPool2d.html#torch.nn.MaxPool2d\">nn.MaxPool2d()</a>\n",
        "- <a href=\"https://pytorch.org/docs/stable/generated/torch.nn.Linear.html#torch.nn.Linear\">nn.Linear()</a>\n",
        "- <a href=\"https://pytorch.org/docs/stable/generated/torch.nn.ReLU.html#torch.nn.ReLU\">nn.ReLU()</a>\n",
        "\n",
        "The input `x` will be an tensor of size `4x3x32x32`, which represents a batch of input images. The output should be a ten dimensional vector. You will most likely need to use other PyTorch operations as well, such as `torch.flatten()`. Feel free to use other layers and operations as you see fit.\n",
        "\n",
        "We recommend first trying the following neural network: convolution, max pooling, convolution, max pooling, convolution, convolution, flattening, linear, linear, linear. Note that you should put the activation function in the right spots."
      ],
      "id": "c1aa6f00-c29f-47f6-be09-2582e363741c"
    },
    {
      "cell_type": "code",
      "source": [
        "class Net(nn.Module):\n",
        "    def __init__(self):\n",
        "        super().__init__()\n",
        "        # TODO: Initialize network layers\n",
        "        self.conv1 = nn.Conv2d(3, 32, 5)   \n",
        "        self.pool = nn.MaxPool2d(2, 2)     \n",
        "        self.conv2 = nn.Conv2d(32, 64, 5) \n",
        "        self.conv3 = nn.Conv2d(64, 128, 5)  \n",
        "        self.fc1 = nn.Linear(128 * 1 * 1, 1024)  \n",
        "        self.fc2 = nn.Linear(1024, 512)    \n",
        "        self.fc3 = nn.Linear(512, 10)     \n",
        "\n",
        "    def forward(self, x):\n",
        "        # TODO: Implement the forward pass with using the layers defined above\n",
        "        #       and the proper activation functions \n",
        "        x = self.pool(F.relu(self.conv1(x)))  \n",
        "        x = self.pool(F.relu(self.conv2(x)))  \n",
        "        x = F.relu(self.conv3(x))             \n",
        "        x = x.view(-1, 128 * 1 * 1)            \n",
        "        x = F.relu(self.fc1(x))              \n",
        "        x = F.relu(self.fc2(x))              \n",
        "        x = self.fc3(x)                      \n",
        "        return x\n",
        "\n",
        "net = Net()\n",
        "\n"
      ],
      "metadata": {
        "id": "aO5jlsrAA01q"
      },
      "id": "aO5jlsrAA01q",
      "execution_count": null,
      "outputs": []
    },
    {
      "cell_type": "markdown",
      "metadata": {
        "id": "3e2c54f8-d9ed-4f64-8842-8c2493998195"
      },
      "source": [
        "Before we proceed, let's visualize the weights of the first convolutional layer in the neural network. Modify the code below in order to plot the weights of the first convolutional layer. (You need to use `detach()` in order for this to work.)"
      ],
      "id": "3e2c54f8-d9ed-4f64-8842-8c2493998195"
    },
    {
      "cell_type": "code",
      "source": [
        "imshow(torchvision.utils.make_grid(net.conv1.weight.cpu().detach()))"
      ],
      "metadata": {
        "id": "y-8ATVm3UW3f",
        "colab": {
          "base_uri": "https://localhost:8080/",
          "height": 318
        },
        "outputId": "9bf0bd31-385a-4a09-8ffc-0aef2b598875"
      },
      "id": "y-8ATVm3UW3f",
      "execution_count": null,
      "outputs": [
        {
          "output_type": "display_data",
          "data": {
            "text/plain": [
              "<Figure size 640x480 with 1 Axes>"
            ],
            "image/png": "[encoded data removed]"
          },
          "metadata": {}
        }
      ]
    },
    {
      "cell_type": "markdown",
      "metadata": {
        "id": "3f271ca1-27e9-4233-bf9f-d63efce156db"
      },
      "source": [
        "Training the Network\n",
        "--------------------\n",
        "\n",
        "Since the neural network is initialized with random noise, the filters visualized above are just random noise. In order to train them, we need to specify both a) a loss function and b) an optimization algorithm. We will use the cross entropy loss function with stochastic gradient descent. In PyTorch, we can specify these by creating the two objects below:"
      ],
      "id": "3f271ca1-27e9-4233-bf9f-d63efce156db"
    },
    {
      "cell_type": "code",
      "execution_count": null,
      "metadata": {
        "id": "6a3b8960-915a-41c8-b190-cc363234e779"
      },
      "outputs": [],
      "source": [
        "criterion = nn.CrossEntropyLoss()\n",
        "optimizer = optim.Adam(net.parameters(), lr=0.0001)"
      ],
      "id": "6a3b8960-915a-41c8-b190-cc363234e779"
    },
    {
      "cell_type": "markdown",
      "metadata": {
        "id": "6c7296b0-2462-42ce-9da2-ef033b6a6afe"
      },
      "source": [
        "Notice that the optimizer accepts the parameter `net.parameters()`. The call `net.parameters()` is a bit of magic. It will automatically determine which tensors are learnable inside the network, and pack them into a vector that is fed into the gradient descent method. In the previous homework, you needed to manually track these variables, but in PyTorch there is book-keeping underneath the API that does this for you automatically.\n",
        "\n",
        "Now, we are ready to train the neural network. "
      ],
      "id": "6c7296b0-2462-42ce-9da2-ef033b6a6afe"
    },
    {
      "cell_type": "code",
      "execution_count": null,
      "metadata": {
        "id": "9af41bb4-2495-430f-aeb2-12a43a650c5c"
      },
      "outputs": [],
      "source": [
        "def train_network(net, n_epochs=2):\n",
        "    net.to(device)\n",
        "\n",
        "    for epoch in range(n_epochs):  # loop over the dataset multiple times\n",
        "        for i, data in enumerate(trainloader, 0):\n",
        "            # get the inputs; data is a list of [inputs, labels]\n",
        "            inputs, labels = data\n",
        "\n",
        "            inputs, labels = inputs.to(device), labels.to(device)\n",
        "\n",
        "            # zero the parameter gradients\n",
        "            optimizer.zero_grad()\n",
        "\n",
        "            # forward + backward + optimize\n",
        "            outputs = net(inputs)\n",
        "            loss = criterion(outputs, labels)\n",
        "            loss.backward()\n",
        "            optimizer.step()\n",
        "\n",
        "            # print statistics\n",
        "            if i % 1000 == 0:\n",
        "                print(f'Epoch={epoch + 1} Iter={i + 1:5d} Loss={loss.item():.3f}')\n",
        "                running_loss = 0.0\n",
        "    print('Finished Training')\n",
        "    return net\n"
      ],
      "id": "9af41bb4-2495-430f-aeb2-12a43a650c5c"
    },
    {
      "cell_type": "markdown",
      "metadata": {
        "id": "Jirk3sAeFkVu"
      },
      "source": [
        "If you want, you can train the network for longer too. This will help improve the performance."
      ],
      "id": "Jirk3sAeFkVu"
    },
    {
      "cell_type": "code",
      "execution_count": null,
      "metadata": {
        "id": "ElCSzf5rFo4e",
        "colab": {
          "base_uri": "https://localhost:8080/"
        },
        "outputId": "474f976c-2663-41e5-f34b-aa0e7564125b"
      },
      "outputs": [
        {
          "output_type": "stream",
          "name": "stdout",
          "text": [
            "Epoch=1 Iter=    1 Loss=2.282\n",
            "Epoch=1 Iter= 1001 Loss=1.547\n",
            "Epoch=1 Iter= 2001 Loss=1.696\n",
            "Epoch=1 Iter= 3001 Loss=1.544\n",
            "Epoch=1 Iter= 4001 Loss=2.900\n",
            "Epoch=1 Iter= 5001 Loss=1.321\n",
            "Epoch=1 Iter= 6001 Loss=1.069\n",
            "Epoch=1 Iter= 7001 Loss=1.908\n",
            "Epoch=1 Iter= 8001 Loss=0.840\n",
            "Epoch=1 Iter= 9001 Loss=2.004\n",
            "Epoch=1 Iter=10001 Loss=1.539\n",
            "Epoch=1 Iter=11001 Loss=1.209\n",
            "Epoch=1 Iter=12001 Loss=1.565\n",
            "Epoch=2 Iter=    1 Loss=1.564\n",
            "Epoch=2 Iter= 1001 Loss=0.904\n",
            "Epoch=2 Iter= 2001 Loss=0.697\n",
            "Epoch=2 Iter= 3001 Loss=0.701\n",
            "Epoch=2 Iter= 4001 Loss=0.713\n",
            "Epoch=2 Iter= 5001 Loss=0.597\n",
            "Epoch=2 Iter= 6001 Loss=1.981\n",
            "Epoch=2 Iter= 7001 Loss=1.282\n",
            "Epoch=2 Iter= 8001 Loss=1.209\n",
            "Epoch=2 Iter= 9001 Loss=0.706\n",
            "Epoch=2 Iter=10001 Loss=1.175\n",
            "Epoch=2 Iter=11001 Loss=1.225\n",
            "Epoch=2 Iter=12001 Loss=2.392\n",
            "Epoch=3 Iter=    1 Loss=1.687\n",
            "Epoch=3 Iter= 1001 Loss=1.417\n",
            "Epoch=3 Iter= 2001 Loss=0.884\n",
            "Epoch=3 Iter= 3001 Loss=1.912\n",
            "Epoch=3 Iter= 4001 Loss=1.742\n",
            "Epoch=3 Iter= 5001 Loss=0.882\n",
            "Epoch=3 Iter= 6001 Loss=0.879\n",
            "Epoch=3 Iter= 7001 Loss=1.221\n",
            "Epoch=3 Iter= 8001 Loss=0.857\n",
            "Epoch=3 Iter= 9001 Loss=0.703\n",
            "Epoch=3 Iter=10001 Loss=1.027\n",
            "Epoch=3 Iter=11001 Loss=0.547\n",
            "Epoch=3 Iter=12001 Loss=1.318\n",
            "Epoch=4 Iter=    1 Loss=0.927\n",
            "Epoch=4 Iter= 1001 Loss=0.467\n",
            "Epoch=4 Iter= 2001 Loss=0.376\n",
            "Epoch=4 Iter= 3001 Loss=1.044\n",
            "Epoch=4 Iter= 4001 Loss=0.182\n",
            "Epoch=4 Iter= 5001 Loss=0.225\n",
            "Epoch=4 Iter= 6001 Loss=0.327\n",
            "Epoch=4 Iter= 7001 Loss=1.667\n",
            "Epoch=4 Iter= 8001 Loss=0.007\n",
            "Epoch=4 Iter= 9001 Loss=0.773\n",
            "Epoch=4 Iter=10001 Loss=0.087\n",
            "Epoch=4 Iter=11001 Loss=1.312\n",
            "Epoch=4 Iter=12001 Loss=0.644\n",
            "Epoch=5 Iter=    1 Loss=0.526\n",
            "Epoch=5 Iter= 1001 Loss=0.119\n",
            "Epoch=5 Iter= 2001 Loss=0.901\n",
            "Epoch=5 Iter= 3001 Loss=0.145\n",
            "Epoch=5 Iter= 4001 Loss=0.634\n",
            "Epoch=5 Iter= 5001 Loss=0.107\n",
            "Epoch=5 Iter= 6001 Loss=0.292\n",
            "Epoch=5 Iter= 7001 Loss=0.813\n",
            "Epoch=5 Iter= 8001 Loss=0.700\n",
            "Epoch=5 Iter= 9001 Loss=0.412\n",
            "Epoch=5 Iter=10001 Loss=0.711\n",
            "Epoch=5 Iter=11001 Loss=0.182\n",
            "Epoch=5 Iter=12001 Loss=0.239\n",
            "Epoch=6 Iter=    1 Loss=0.319\n",
            "Epoch=6 Iter= 1001 Loss=0.825\n",
            "Epoch=6 Iter= 2001 Loss=1.674\n",
            "Epoch=6 Iter= 3001 Loss=0.571\n",
            "Epoch=6 Iter= 4001 Loss=0.877\n",
            "Epoch=6 Iter= 5001 Loss=0.615\n",
            "Epoch=6 Iter= 6001 Loss=0.702\n",
            "Epoch=6 Iter= 7001 Loss=0.122\n",
            "Epoch=6 Iter= 8001 Loss=0.628\n",
            "Epoch=6 Iter= 9001 Loss=0.547\n",
            "Epoch=6 Iter=10001 Loss=0.312\n",
            "Epoch=6 Iter=11001 Loss=0.563\n",
            "Epoch=6 Iter=12001 Loss=1.294\n",
            "Epoch=7 Iter=    1 Loss=0.291\n",
            "Epoch=7 Iter= 1001 Loss=0.090\n",
            "Epoch=7 Iter= 2001 Loss=1.247\n",
            "Epoch=7 Iter= 3001 Loss=0.071\n",
            "Epoch=7 Iter= 4001 Loss=3.548\n",
            "Epoch=7 Iter= 5001 Loss=0.773\n",
            "Epoch=7 Iter= 6001 Loss=0.143\n",
            "Epoch=7 Iter= 7001 Loss=0.378\n",
            "Epoch=7 Iter= 8001 Loss=0.234\n",
            "Epoch=7 Iter= 9001 Loss=0.739\n",
            "Epoch=7 Iter=10001 Loss=1.042\n",
            "Epoch=7 Iter=11001 Loss=0.333\n",
            "Epoch=7 Iter=12001 Loss=0.042\n",
            "Epoch=8 Iter=    1 Loss=0.940\n",
            "Epoch=8 Iter= 1001 Loss=0.303\n",
            "Epoch=8 Iter= 2001 Loss=0.697\n",
            "Epoch=8 Iter= 3001 Loss=0.212\n",
            "Epoch=8 Iter= 4001 Loss=0.024\n",
            "Epoch=8 Iter= 5001 Loss=0.012\n",
            "Epoch=8 Iter= 6001 Loss=0.412\n",
            "Epoch=8 Iter= 7001 Loss=0.152\n",
            "Epoch=8 Iter= 8001 Loss=0.362\n",
            "Epoch=8 Iter= 9001 Loss=1.137\n",
            "Epoch=8 Iter=10001 Loss=0.734\n",
            "Epoch=8 Iter=11001 Loss=0.277\n",
            "Epoch=8 Iter=12001 Loss=0.209\n",
            "Finished Training\n"
          ]
        },
        {
          "output_type": "execute_result",
          "data": {
            "text/plain": [
              "Net(\n",
              "  (conv1): Conv2d(3, 32, kernel_size=(5, 5), stride=(1, 1))\n",
              "  (pool): MaxPool2d(kernel_size=2, stride=2, padding=0, dilation=1, ceil_mode=False)\n",
              "  (conv2): Conv2d(32, 64, kernel_size=(5, 5), stride=(1, 1))\n",
              "  (conv3): Conv2d(64, 128, kernel_size=(5, 5), stride=(1, 1))\n",
              "  (fc1): Linear(in_features=128, out_features=1024, bias=True)\n",
              "  (fc2): Linear(in_features=1024, out_features=512, bias=True)\n",
              "  (fc3): Linear(in_features=512, out_features=10, bias=True)\n",
              ")"
            ]
          },
          "metadata": {},
          "execution_count": 8
        }
      ],
      "source": [
        "train_network(net, n_epochs=8)"
      ],
      "id": "ElCSzf5rFo4e"
    },
    {
      "cell_type": "markdown",
      "metadata": {
        "id": "305157e1-2245-47d5-812d-215644430da9"
      },
      "source": [
        "Visualizing Predictions\n",
        "-----------------------\n",
        "\n",
        "Unless you train the neural network for a long time, the loss will most likely not go to zero. However, it should still go down, which means it has learned some association between visual patterns and the category labels in the dataset. Let's try the model on some images in the test set and see what it predicts for them."
      ],
      "id": "305157e1-2245-47d5-812d-215644430da9"
    },
    {
      "cell_type": "code",
      "execution_count": null,
      "metadata": {
        "id": "f05ba9d4-608b-4fac-b49f-b0fa12daeeab",
        "colab": {
          "base_uri": "https://localhost:8080/",
          "height": 245
        },
        "outputId": "4f89de1e-900f-48c1-a0c7-ade7c72727bc"
      },
      "outputs": [
        {
          "output_type": "display_data",
          "data": {
            "text/plain": [
              "<Figure size 640x480 with 1 Axes>"
            ],
            "image/png": "[encoded data removed]"
          },
          "metadata": {}
        },
        {
          "output_type": "stream",
          "name": "stdout",
          "text": [
            "GroundTruth:  cat  \tship \tship \tplane\n",
            "Predictions:  cat  \tship \tship \tplane\n",
            "Accuracy: 100.0%\n"
          ]
        }
      ],
      "source": [
        "dataiter = iter(testloader)\n",
        "images, labels = next(dataiter)\n",
        "\n",
        "net.to(device)\n",
        "predictions = net(images.to(device)).argmax(axis=1).cpu().detach()\n",
        "accuracy = (labels==predictions).double().mean()\n",
        "\n",
        "# print images\n",
        "imshow(torchvision.utils.make_grid(images))\n",
        "print('GroundTruth: ', '\\t'.join(f'{classes[labels[j]]:5s}' for j in range(4)))\n",
        "print('Predictions: ', '\\t'.join(f'{classes[predictions[j]]:5s}' for j in range(4)))\n",
        "print(f'Accuracy: {accuracy*100}%')"
      ],
      "id": "f05ba9d4-608b-4fac-b49f-b0fa12daeeab"
    },
    {
      "cell_type": "markdown",
      "metadata": {
        "id": "bf859ae6-ad61-468f-a08e-341f573a4c99"
      },
      "source": [
        "In our implementation, the predictions are not always correct, but they are often reasonable. This is impressive considering we have barely trained the neural network at all.\n",
        "\n",
        "Let's calculate the accuracy on the full test set."
      ],
      "id": "bf859ae6-ad61-468f-a08e-341f573a4c99"
    },
    {
      "cell_type": "code",
      "execution_count": null,
      "metadata": {
        "id": "z-wrtPwLFxoD",
        "colab": {
          "base_uri": "https://localhost:8080/"
        },
        "outputId": "7727fa6c-79e0-4ca8-905a-8c723f8dd6d8"
      },
      "outputs": [
        {
          "output_type": "stream",
          "name": "stdout",
          "text": [
            "Accuracy: 71.64%\n"
          ]
        }
      ],
      "source": [
        "dataiter = iter(testloader)\n",
        "\n",
        "running_accuracy = 0\n",
        "running_count = 0\n",
        "for images, labels in dataiter:\n",
        "  images = images.to(device)\n",
        "  predictions = net(images.to(device)).argmax(axis=1).cpu().detach()\n",
        "  accuracy = (labels==predictions).double().mean()\n",
        "\n",
        "  running_accuracy += accuracy\n",
        "  running_count += 1\n",
        "\n",
        "print(f'Accuracy: {running_accuracy/running_count*100:.2f}%')"
      ],
      "id": "z-wrtPwLFxoD"
    },
    {
      "cell_type": "markdown",
      "metadata": {
        "id": "IkbTTQh-GMsJ"
      },
      "source": [
        "In our solution, we get 74% accuracy after training for about 10 minutes on the Colab GPU. Can you do better?"
      ],
      "id": "IkbTTQh-GMsJ"
    },
    {
      "cell_type": "markdown",
      "source": [
        "# 2. Problem 2: Building ResNet"
      ],
      "metadata": {
        "id": "Pgg9f07ea-WR"
      },
      "id": "Pgg9f07ea-WR"
    },
    {
      "cell_type": "markdown",
      "metadata": {
        "id": "b0a85af2-ccc8-4dc1-adde-9a83e6a69c1e"
      },
      "source": [
        "Residual Network\n",
        "----------------\n",
        "\n",
        "Residual networks have become a standard architecture because they are able to efficiently scale to a large number of layers. While the state-of-the-art networks have thousands of layers, they would be too expensive to train in time for the homework deadline. Let's implement just a simple residual network.\n",
        "\n",
        "Implement a ResNet block which contains convolutional layers with a skip connection across them. Note that the dimensions of the original input and the output of the convolutional layers may not match up for addition. Hint: one way to address this is to introduce a linear transformation (like a 1x1 kernel convolution) to resize the input when necessary. Another would be to 0-pad the input to match dimensions for addition."
      ],
      "id": "b0a85af2-ccc8-4dc1-adde-9a83e6a69c1e"
    },
    {
      "cell_type": "code",
      "execution_count": null,
      "metadata": {
        "id": "384f7579-1789-4303-bee8-a8678bf83c1e"
      },
      "outputs": [],
      "source": [
        "class ResNetBlock(nn.Module):\n",
        "    def __init__(self, in_channels, out_channels, stride=1):\n",
        "        super().__init__()\n",
        "        # TODO: Initialize Two Convolutional Layers in the Residual Block\n",
        "        self.conv1 = nn.Conv2d(in_channels, out_channels, kernel_size=3, stride = stride, padding = 1)\n",
        "        self.bn1 = nn.BatchNorm2d(out_channels)\n",
        "        self.conv2 = nn.Conv2d(out_channels, out_channels, kernel_size=3, stride = 1, padding = 1)\n",
        "        self.bn2 = nn.BatchNorm2d(out_channels)\n",
        "        self.relu = nn.ReLU()\n",
        "\n",
        "\n",
        "        self.skip_connection = nn.Identity()\n",
        "        if stride != 1 or in_channels != out_channels:\n",
        "          # TODO: Use a Conv2d layer with kernel_size=1 to \"resize\" input\n",
        "          self.skip_connection = nn.Conv2d(in_channels, out_channels, kernel_size = 1,\n",
        "                                           stride = stride)\n",
        "\n",
        "    def forward(self, x):\n",
        "        identity_x = self.skip_connection(x)\n",
        "        x = self.conv1(x)\n",
        "        x = self.bn1(x)\n",
        "        x= self.relu(x)\n",
        "        x = self.conv2(x)\n",
        "        x = self.bn2(x)\n",
        "\n",
        "        # TODO: Implement Forward pass using 2 Conv Layers.\n",
        "        # The addition of the original input is already done\n",
        "\n",
        "        ##############################\n",
        "        \n",
        "        assert x.shape == identity_x.shape\n",
        "        x = x + identity_x\n",
        "        x = self.relu(x)\n",
        "        return x"
      ],
      "id": "384f7579-1789-4303-bee8-a8678bf83c1e"
    },
    {
      "cell_type": "markdown",
      "metadata": {
        "id": "yhLgqItzzjKd"
      },
      "source": [
        "\n",
        "In the code block below, complete the class for a residual network. (PyTorch has a residual network built in, but you should not use it. Instead, create a residual network using the building blocks introduced above.) We recommend the following architecture: Convolution, Maxpooling, ResNetBlock, ResNetBlock, flatten, linear, linear, linear. Be sure to use ReLU activations where necessary."
      ],
      "id": "yhLgqItzzjKd"
    },
    {
      "cell_type": "code",
      "source": [
        "class ResNet(nn.Module):\n",
        "    def __init__(self, num_classes=10):\n",
        "        super().__init__()\n",
        "        # TODO: initialize network layers\n",
        "        \n",
        "        self.conv1 = nn.Conv2d(3, 64, kernel_size=3, stride=1, padding=1)\n",
        "        self.relu1 = nn.ReLU()\n",
        "        self.maxpool1 = nn.MaxPool2d(kernel_size=2, stride=2)\n",
        "      \n",
        "        self.res_block1 = ResNetBlock(64, 64, stride=1)\n",
        "        self.res_block2 = ResNetBlock(64, 128, stride=2)\n",
        "        \n",
        "        self.flatten = nn.Flatten()\n",
        "        \n",
        "        self.linear1 = nn.Linear(8192, 512)\n",
        "        self.relu2 = nn.ReLU()\n",
        "        self.linear2 = nn.Linear(512, 128)\n",
        "        self.relu3 = nn.ReLU()\n",
        "        self.linear3 = nn.Linear(128, num_classes)\n",
        "        \n",
        "    def forward(self, x):\n",
        "       # TODO: implement the forward pass\n",
        "        x = self.conv1(x)\n",
        "        x = self.relu1(x)\n",
        "        x = self.maxpool1(x)\n",
        "        \n",
        "        x = self.res_block1(x)\n",
        "        x = self.res_block2(x)\n",
        "        \n",
        "        x = self.flatten(x)\n",
        "        \n",
        "        x = self.linear1(x)\n",
        "        x = self.relu2(x)\n",
        "        x = self.linear2(x)\n",
        "        x = self.relu3(x)\n",
        "        x = self.linear3(x)\n",
        "        \n",
        "        return x\n",
        "        \n"
      ],
      "metadata": {
        "id": "Q3ZBcXTx_O_A"
      },
      "id": "Q3ZBcXTx_O_A",
      "execution_count": null,
      "outputs": []
    },
    {
      "cell_type": "code",
      "source": [
        "res_net = ResNet()"
      ],
      "metadata": {
        "id": "HUb3Q6OaHTua"
      },
      "id": "HUb3Q6OaHTua",
      "execution_count": null,
      "outputs": []
    },
    {
      "cell_type": "code",
      "execution_count": null,
      "metadata": {
        "id": "zj2sTvHCsvHz"
      },
      "outputs": [],
      "source": [
        "criterion = nn.CrossEntropyLoss()\n",
        "optimizer = optim.Adam(res_net.parameters(), lr=0.0001)"
      ],
      "id": "zj2sTvHCsvHz"
    },
    {
      "cell_type": "markdown",
      "metadata": {
        "id": "b7a2b9e2-beed-44b5-a606-8a3fb5e001d9"
      },
      "source": [
        "After you create the network, we can use the training loop from above in order to train it."
      ],
      "id": "b7a2b9e2-beed-44b5-a606-8a3fb5e001d9"
    },
    {
      "cell_type": "code",
      "execution_count": null,
      "metadata": {
        "id": "9df8b4af-01a1-41d1-aa3b-013cc02db777",
        "colab": {
          "base_uri": "https://localhost:8080/"
        },
        "outputId": "911e7f24-9c0e-4a18-cada-19148f67bb4b"
      },
      "outputs": [
        {
          "output_type": "stream",
          "name": "stdout",
          "text": [
            "Epoch=1 Iter=    1 Loss=2.300\n",
            "Epoch=1 Iter= 1001 Loss=1.053\n",
            "Epoch=1 Iter= 2001 Loss=0.851\n",
            "Epoch=1 Iter= 3001 Loss=1.577\n",
            "Epoch=1 Iter= 4001 Loss=0.643\n",
            "Epoch=1 Iter= 5001 Loss=0.454\n",
            "Epoch=1 Iter= 6001 Loss=0.491\n",
            "Epoch=1 Iter= 7001 Loss=0.878\n",
            "Epoch=1 Iter= 8001 Loss=1.140\n",
            "Epoch=1 Iter= 9001 Loss=0.651\n",
            "Epoch=1 Iter=10001 Loss=0.870\n",
            "Epoch=1 Iter=11001 Loss=1.407\n",
            "Epoch=1 Iter=12001 Loss=0.238\n",
            "Epoch=2 Iter=    1 Loss=0.683\n",
            "Epoch=2 Iter= 1001 Loss=0.179\n",
            "Epoch=2 Iter= 2001 Loss=0.855\n",
            "Epoch=2 Iter= 3001 Loss=1.065\n",
            "Epoch=2 Iter= 4001 Loss=0.386\n",
            "Epoch=2 Iter= 5001 Loss=1.488\n",
            "Epoch=2 Iter= 6001 Loss=0.540\n",
            "Epoch=2 Iter= 7001 Loss=1.490\n",
            "Epoch=2 Iter= 8001 Loss=0.378\n",
            "Epoch=2 Iter= 9001 Loss=0.065\n",
            "Epoch=2 Iter=10001 Loss=1.551\n",
            "Epoch=2 Iter=11001 Loss=0.147\n",
            "Epoch=2 Iter=12001 Loss=1.597\n",
            "Epoch=3 Iter=    1 Loss=0.220\n",
            "Epoch=3 Iter= 1001 Loss=0.618\n",
            "Epoch=3 Iter= 2001 Loss=0.263\n",
            "Epoch=3 Iter= 3001 Loss=1.090\n",
            "Epoch=3 Iter= 4001 Loss=0.214\n",
            "Epoch=3 Iter= 5001 Loss=1.449\n",
            "Epoch=3 Iter= 6001 Loss=1.161\n",
            "Epoch=3 Iter= 7001 Loss=0.770\n",
            "Epoch=3 Iter= 8001 Loss=0.680\n",
            "Epoch=3 Iter= 9001 Loss=0.436\n",
            "Epoch=3 Iter=10001 Loss=0.501\n",
            "Epoch=3 Iter=11001 Loss=0.463\n",
            "Epoch=3 Iter=12001 Loss=0.330\n",
            "Epoch=4 Iter=    1 Loss=0.222\n",
            "Epoch=4 Iter= 1001 Loss=0.942\n",
            "Epoch=4 Iter= 2001 Loss=1.190\n",
            "Epoch=4 Iter= 3001 Loss=0.849\n",
            "Epoch=4 Iter= 4001 Loss=0.305\n",
            "Epoch=4 Iter= 5001 Loss=1.295\n",
            "Epoch=4 Iter= 6001 Loss=0.083\n",
            "Epoch=4 Iter= 7001 Loss=0.076\n",
            "Epoch=4 Iter= 8001 Loss=0.027\n",
            "Epoch=4 Iter= 9001 Loss=0.182\n",
            "Epoch=4 Iter=10001 Loss=0.104\n",
            "Epoch=4 Iter=11001 Loss=0.373\n",
            "Epoch=4 Iter=12001 Loss=0.018\n",
            "Epoch=5 Iter=    1 Loss=0.005\n",
            "Epoch=5 Iter= 1001 Loss=0.360\n",
            "Epoch=5 Iter= 2001 Loss=0.081\n",
            "Epoch=5 Iter= 3001 Loss=0.003\n",
            "Epoch=5 Iter= 4001 Loss=0.127\n",
            "Epoch=5 Iter= 5001 Loss=0.019\n",
            "Epoch=5 Iter= 6001 Loss=0.008\n",
            "Epoch=5 Iter= 7001 Loss=0.089\n",
            "Epoch=5 Iter= 8001 Loss=0.018\n",
            "Epoch=5 Iter= 9001 Loss=0.036\n",
            "Epoch=5 Iter=10001 Loss=0.250\n",
            "Epoch=5 Iter=11001 Loss=0.115\n",
            "Epoch=5 Iter=12001 Loss=0.042\n",
            "Finished Training\n"
          ]
        }
      ],
      "source": [
        "res_net = train_network(res_net, n_epochs=5)"
      ],
      "id": "9df8b4af-01a1-41d1-aa3b-013cc02db777"
    },
    {
      "cell_type": "markdown",
      "metadata": {
        "id": "937175d9-7c35-4715-9c78-d2f441291071"
      },
      "source": [
        "Let's visualize some of the predictions from the trained network."
      ],
      "id": "937175d9-7c35-4715-9c78-d2f441291071"
    },
    {
      "cell_type": "code",
      "execution_count": null,
      "metadata": {
        "id": "9bad6cdf-c4c7-4975-936d-40df5fc19073",
        "colab": {
          "base_uri": "https://localhost:8080/",
          "height": 245
        },
        "outputId": "6e40fdac-7831-4f58-eab1-72b6d83ffcab"
      },
      "outputs": [
        {
          "output_type": "display_data",
          "data": {
            "text/plain": [
              "<Figure size 640x480 with 1 Axes>"
            ],
            "image/png": "[encoded data removed]"
          },
          "metadata": {}
        },
        {
          "output_type": "stream",
          "name": "stdout",
          "text": [
            "GroundTruth:  cat  \tship \tship \tplane\n",
            "Predictions:  cat  \tship \tship \tplane\n",
            "Accuracy: 100.0%\n"
          ]
        }
      ],
      "source": [
        "dataiter = iter(testloader)\n",
        "images, labels = next(dataiter)\n",
        "\n",
        "res_net.to(device)\n",
        "predictions = res_net(images.to(device)).argmax(axis=1).cpu().detach()\n",
        "accuracy = (labels==predictions).double().mean()\n",
        "\n",
        "# print images\n",
        "imshow(torchvision.utils.make_grid(images))\n",
        "print('GroundTruth: ', '\\t'.join(f'{classes[labels[j]]:5s}' for j in range(4)))\n",
        "print('Predictions: ', '\\t'.join(f'{classes[predictions[j]]:5s}' for j in range(4)))\n",
        "print(f'Accuracy: {accuracy*100}%')"
      ],
      "id": "9bad6cdf-c4c7-4975-936d-40df5fc19073"
    },
    {
      "cell_type": "markdown",
      "metadata": {
        "id": "gCeChOne3L0o"
      },
      "source": [
        "Let's also calculate the accuracy on the full test set."
      ],
      "id": "gCeChOne3L0o"
    },
    {
      "cell_type": "code",
      "execution_count": null,
      "metadata": {
        "id": "NzSIvCTp28UF",
        "colab": {
          "base_uri": "https://localhost:8080/"
        },
        "outputId": "962fea3f-0379-46dc-d577-d731e57d1ee8"
      },
      "outputs": [
        {
          "output_type": "stream",
          "name": "stdout",
          "text": [
            "Accuracy: 78.00%\n"
          ]
        }
      ],
      "source": [
        "dataiter = iter(testloader)\n",
        "\n",
        "running_accuracy = 0\n",
        "running_count = 0\n",
        "for images, labels in dataiter:\n",
        "  images = images.to(device)\n",
        "  predictions = res_net(images.to(device)).argmax(axis=1).cpu().detach()\n",
        "  accuracy = (labels==predictions).double().mean()\n",
        "\n",
        "  running_accuracy += accuracy\n",
        "  running_count += 1 \n",
        "\n",
        "print(f'Accuracy: {running_accuracy/running_count*100:.2f}%')"
      ],
      "id": "NzSIvCTp28UF"
    },
    {
      "cell_type": "markdown",
      "source": [
        "In our solution, we get 76% accuracy. "
      ],
      "metadata": {
        "id": "eKKBmrW4WgEu"
      },
      "id": "eKKBmrW4WgEu"
    },
    {
      "cell_type": "code",
      "source": [
        "%%capture\n",
        "from google.colab import drive\n",
        "drive.mount('/content/drive');\n",
        "!sudo apt-get update;\n",
        "!sudo apt-get install texlive-xetex texlive-fonts-recommended texlive-plain-generic;\n",
        "!jupyter nbconvert --to pdf /content/drive/MyDrive/Colab\\ Notebooks/HW3_yj2737.ipynb;"
      ],
      "metadata": {
        "id": "TlgxaUxlIFb5"
      },
      "id": "TlgxaUxlIFb5",
      "execution_count": null,
      "outputs": []
    }
  ],
  "metadata": {
    "accelerator": "GPU",
    "colab": {
      "provenance": []
    },
    "gpuClass": "standard",
    "kernelspec": {
      "display_name": "Python 3 (ipykernel)",
      "language": "python",
      "name": "python3"
    },
    "language_info": {
      "codemirror_mode": {
        "name": "ipython",
        "version": 3
      },
      "file_extension": ".py",
      "mimetype": "text/x-python",
      "name": "python",
      "nbconvert_exporter": "python",
      "pygments_lexer": "ipython3",
      "version": "3.10.6"
    }
  },
  "nbformat": 4,
  "nbformat_minor": 5
}